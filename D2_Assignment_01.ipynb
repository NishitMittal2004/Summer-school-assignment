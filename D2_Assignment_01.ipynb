{
  "nbformat": 4,
  "nbformat_minor": 0,
  "metadata": {
    "colab": {
      "provenance": [],
      "authorship_tag": "ABX9TyNo5kYOjBK0KxBD+rgBEwYh",
      "include_colab_link": true
    },
    "kernelspec": {
      "name": "python3",
      "display_name": "Python 3"
    },
    "language_info": {
      "name": "python"
    }
  },
  "cells": [
    {
      "cell_type": "markdown",
      "metadata": {
        "id": "view-in-github",
        "colab_type": "text"
      },
      "source": [
        "<a href=\"https://colab.research.google.com/github/NishitMittal2004/Summer-school-assignment/blob/main/D2_Assignment_01.ipynb\" target=\"_parent\"><img src=\"https://colab.research.google.com/assets/colab-badge.svg\" alt=\"Open In Colab\"/></a>"
      ]
    },
    {
      "cell_type": "markdown",
      "source": [
        "---\n",
        "# **Question 1**\n",
        "---"
      ],
      "metadata": {
        "id": "T7akRSUK1yCk"
      }
    },
    {
      "cell_type": "code",
      "source": [
        "L = [11,12,13,14]\n",
        "L.append(50)\n",
        "L.append(60)\n",
        "print(L)"
      ],
      "metadata": {
        "colab": {
          "base_uri": "https://localhost:8080/"
        },
        "id": "-6dkW9kX00Yf",
        "outputId": "c88f4746-67ba-41ab-8afc-ebc888913e02"
      },
      "execution_count": null,
      "outputs": [
        {
          "output_type": "stream",
          "name": "stdout",
          "text": [
            "[11, 12, 13, 14, 50, 60]\n"
          ]
        }
      ]
    },
    {
      "cell_type": "code",
      "source": [
        "L = [11,12,13,14]\n",
        "L.append(50)\n",
        "L.append(60)\n",
        "print(L)\n",
        "\n",
        "L.remove(11)\n",
        "L.remove(13)\n",
        "print(L)"
      ],
      "metadata": {
        "colab": {
          "base_uri": "https://localhost:8080/"
        },
        "id": "EU5Klubl25PX",
        "outputId": "a9cdc07d-8fab-4980-cf97-364aa36365ef"
      },
      "execution_count": null,
      "outputs": [
        {
          "output_type": "stream",
          "name": "stdout",
          "text": [
            "[11, 12, 13, 14, 50, 60]\n",
            "[12, 14, 50, 60]\n"
          ]
        }
      ]
    },
    {
      "cell_type": "code",
      "source": [
        "L.sort\n",
        "print(L)"
      ],
      "metadata": {
        "colab": {
          "base_uri": "https://localhost:8080/"
        },
        "id": "7dBALp213vYd",
        "outputId": "71f25004-8013-43ab-df4b-6078f22996ac"
      },
      "execution_count": null,
      "outputs": [
        {
          "output_type": "stream",
          "name": "stdout",
          "text": [
            "[60, 50, 14, 12]\n"
          ]
        }
      ]
    },
    {
      "cell_type": "code",
      "source": [
        "L.sort(reverse=True)\n",
        "print(L)"
      ],
      "metadata": {
        "colab": {
          "base_uri": "https://localhost:8080/"
        },
        "id": "g77JbF4U4bsV",
        "outputId": "486cad77-2636-43bd-87d3-a49dddd201b2"
      },
      "execution_count": null,
      "outputs": [
        {
          "output_type": "stream",
          "name": "stdout",
          "text": [
            "[60, 50, 14, 12]\n"
          ]
        }
      ]
    },
    {
      "cell_type": "code",
      "source": [
        "print(13 in L)"
      ],
      "metadata": {
        "colab": {
          "base_uri": "https://localhost:8080/"
        },
        "id": "P4vFQd-c5PF4",
        "outputId": "3a62dce2-12ed-4a84-d6bd-232f5d050472"
      },
      "execution_count": null,
      "outputs": [
        {
          "output_type": "stream",
          "name": "stdout",
          "text": [
            "False\n"
          ]
        }
      ]
    },
    {
      "cell_type": "code",
      "source": [
        "print(\"No. of elements --> \", len(L))"
      ],
      "metadata": {
        "colab": {
          "base_uri": "https://localhost:8080/"
        },
        "id": "n_vvJLPt5_3a",
        "outputId": "160bb809-e40a-4d4e-d29d-ad61007b2e85"
      },
      "execution_count": null,
      "outputs": [
        {
          "output_type": "stream",
          "name": "stdout",
          "text": [
            "No. of elements -->  4\n"
          ]
        }
      ]
    },
    {
      "cell_type": "code",
      "source": [
        "print(\"Sum =\", sum(L))"
      ],
      "metadata": {
        "colab": {
          "base_uri": "https://localhost:8080/"
        },
        "id": "TvDv5mY36x2E",
        "outputId": "476b514e-ba85-4f16-c902-73d1769900e6"
      },
      "execution_count": null,
      "outputs": [
        {
          "output_type": "stream",
          "name": "stdout",
          "text": [
            "Sum = 136\n"
          ]
        }
      ]
    },
    {
      "cell_type": "code",
      "source": [
        "L = [11,12,13,14]\n",
        "\n",
        "sumOdd=0\n",
        "for i in range (len(L)):\n",
        "  if L[i]%2 != 0:\n",
        "    sumOdd=sumOdd + L[i]\n",
        "print(sumOdd)"
      ],
      "metadata": {
        "colab": {
          "base_uri": "https://localhost:8080/"
        },
        "id": "z6TyPc3W64jn",
        "outputId": "4b081ab2-af79-4fc5-8646-8a1d8ea77c5b"
      },
      "execution_count": null,
      "outputs": [
        {
          "output_type": "stream",
          "name": "stdout",
          "text": [
            "24\n"
          ]
        }
      ]
    },
    {
      "cell_type": "code",
      "source": [
        "L = [11,12,13,14]\n",
        "\n",
        "sumEven=0\n",
        "for i in range (len(L)):\n",
        "  if L[i]%2 == 0:\n",
        "    sumEven=sumEven + L[i]\n",
        "print(sumEven)"
      ],
      "metadata": {
        "colab": {
          "base_uri": "https://localhost:8080/"
        },
        "id": "-vgQ9D54-C5A",
        "outputId": "f4c18f15-0846-4954-92ae-2ec0ada1b25d"
      },
      "execution_count": null,
      "outputs": [
        {
          "output_type": "stream",
          "name": "stdout",
          "text": [
            "26\n"
          ]
        }
      ]
    },
    {
      "cell_type": "code",
      "source": [
        "L=[11,12,13,14]\n",
        "sumPrime=0\n",
        "\n",
        "for i in L:\n",
        " f=0 \n",
        " for j in range(2,i//2+1):\n",
        "  if i%j==0:\n",
        "   f=f+1\n",
        " if f==0:  \n",
        "  sumPrime+=i\n",
        "print(\"Sum of prime numbers is\",sum)"
      ],
      "metadata": {
        "colab": {
          "base_uri": "https://localhost:8080/"
        },
        "id": "4SAd9mzH-VA8",
        "outputId": "4f862362-e02c-4245-cfac-a4c2fc5b67fb"
      },
      "execution_count": null,
      "outputs": [
        {
          "output_type": "stream",
          "name": "stdout",
          "text": [
            "Sum of prime numbers is 24\n"
          ]
        }
      ]
    },
    {
      "cell_type": "code",
      "source": [
        "L=[11,12,13,14]\n",
        "L.clear()\n",
        "print(\"After clearing --->\", L)"
      ],
      "metadata": {
        "colab": {
          "base_uri": "https://localhost:8080/"
        },
        "id": "wsguiOLvKQ_m",
        "outputId": "c995959e-f05d-429c-f90e-1cc36c347047"
      },
      "execution_count": null,
      "outputs": [
        {
          "output_type": "stream",
          "name": "stdout",
          "text": [
            "After clearing ---> []\n"
          ]
        }
      ]
    },
    {
      "cell_type": "code",
      "source": [
        "L=[11,12,13,14]\n",
        "\n",
        "del L\n"
      ],
      "metadata": {
        "id": "ekaY4TD3Qvil"
      },
      "execution_count": null,
      "outputs": []
    },
    {
      "cell_type": "markdown",
      "source": [
        "---\n",
        "# **Question 2**\n",
        "---"
      ],
      "metadata": {
        "id": "KzaMOLbCRqxK"
      }
    },
    {
      "cell_type": "code",
      "source": [
        "D= {1:5.6, 2:7.8, 3:6.6, 4:8.7, 5:7.7}\n",
        "\n",
        "D[8]=8.8\n",
        "print(\"After adding -->\", D)"
      ],
      "metadata": {
        "colab": {
          "base_uri": "https://localhost:8080/"
        },
        "id": "wU6zz9pNR9oj",
        "outputId": "bb594d3e-8b1f-45e0-e16d-77727301c647"
      },
      "execution_count": null,
      "outputs": [
        {
          "output_type": "stream",
          "name": "stdout",
          "text": [
            "After adding --> {1: 5.6, 2: 7.8, 3: 6.6, 4: 8.7, 5: 7.7, 8: 8.8}\n"
          ]
        }
      ]
    },
    {
      "cell_type": "code",
      "source": [
        "del D[2]\n",
        "print(\"After deleting -->\", D)"
      ],
      "metadata": {
        "colab": {
          "base_uri": "https://localhost:8080/"
        },
        "id": "GOXda5nVSxDI",
        "outputId": "51840991-263e-4795-eab0-787133040c85"
      },
      "execution_count": null,
      "outputs": [
        {
          "output_type": "stream",
          "name": "stdout",
          "text": [
            "After deleting --> {1: 5.6, 3: 6.6, 4: 8.7, 5: 7.7, 8: 8.8}\n"
          ]
        }
      ]
    },
    {
      "cell_type": "code",
      "source": [
        "print(\"Is 6 present in D -->\", 6 in D)"
      ],
      "metadata": {
        "colab": {
          "base_uri": "https://localhost:8080/"
        },
        "id": "fcRdvO6KS9BT",
        "outputId": "caa92d39-1b89-476d-ed84-099e3cd9d2c8"
      },
      "execution_count": null,
      "outputs": [
        {
          "output_type": "stream",
          "name": "stdout",
          "text": [
            "Is 6 present in D --> False\n"
          ]
        }
      ]
    },
    {
      "cell_type": "code",
      "source": [
        "print(\"Number of elements -->\", len(D))"
      ],
      "metadata": {
        "colab": {
          "base_uri": "https://localhost:8080/"
        },
        "id": "RhkYP3CRTLbI",
        "outputId": "ef694b9d-78b8-447b-b9ac-595dcd5fd3d9"
      },
      "execution_count": null,
      "outputs": [
        {
          "output_type": "stream",
          "name": "stdout",
          "text": [
            "Number of elements --> 5\n"
          ]
        }
      ]
    },
    {
      "cell_type": "code",
      "source": [
        "sum=0\n",
        "for i in D:\n",
        "  sum+=D[i]\n",
        "print(\"Sum of values =\", sum)"
      ],
      "metadata": {
        "colab": {
          "base_uri": "https://localhost:8080/"
        },
        "id": "lpAsdKqJTfTD",
        "outputId": "bde57757-4aa7-41e9-c1cd-af3318e25773"
      },
      "execution_count": null,
      "outputs": [
        {
          "output_type": "stream",
          "name": "stdout",
          "text": [
            "Sum of values = 37.4\n"
          ]
        }
      ]
    },
    {
      "cell_type": "code",
      "source": [
        "D[3]=7.1\n",
        "print(\"After updating -->\", D)"
      ],
      "metadata": {
        "colab": {
          "base_uri": "https://localhost:8080/"
        },
        "id": "5yCEcrldUiGA",
        "outputId": "53a27526-65d9-4f54-fa80-ccdeb27ec83e"
      },
      "execution_count": null,
      "outputs": [
        {
          "output_type": "stream",
          "name": "stdout",
          "text": [
            "After updating --> {1: 5.6, 3: 7.1, 4: 8.7, 5: 7.7, 8: 8.8}\n"
          ]
        }
      ]
    },
    {
      "cell_type": "code",
      "source": [
        "D.clear()\n",
        "print(\"After clearing -->\", D)"
      ],
      "metadata": {
        "colab": {
          "base_uri": "https://localhost:8080/"
        },
        "id": "8Bon-1RwUw9i",
        "outputId": "63a6fee9-711b-4b2e-c8fc-26ccc09138d4"
      },
      "execution_count": null,
      "outputs": [
        {
          "output_type": "stream",
          "name": "stdout",
          "text": [
            "After clearing --> {}\n"
          ]
        }
      ]
    },
    {
      "cell_type": "markdown",
      "source": [
        "---\n",
        "# **Question 3**\n",
        "---"
      ],
      "metadata": {
        "id": "6-hq1cpTWpBU"
      }
    },
    {
      "cell_type": "code",
      "source": [
        "S1= set(['10', '20', '30', '40', '50', '60'])\n",
        "S2= set(['40', '50', '60', '70', '80', '90'])\n",
        "S1.add(\"55\")\n",
        "S1.add(\"66\")\n",
        "print(\"After adding -->\", S1)"
      ],
      "metadata": {
        "id": "67yO2ENZXPuv",
        "colab": {
          "base_uri": "https://localhost:8080/"
        },
        "outputId": "2da83ba2-31e1-4919-cc1b-1777c9fbc5bf"
      },
      "execution_count": null,
      "outputs": [
        {
          "output_type": "stream",
          "name": "stdout",
          "text": [
            "After adding --> {'55', '30', '20', '50', '10', '60', '40', '66'}\n"
          ]
        }
      ]
    },
    {
      "cell_type": "code",
      "source": [
        "S1.remove(\"10\")\n",
        "S1.remove(\"30\")\n",
        "print(\"After deleting -->\", S1)"
      ],
      "metadata": {
        "colab": {
          "base_uri": "https://localhost:8080/"
        },
        "id": "OLurlv5mC8Mq",
        "outputId": "a18e8d51-0f36-4523-bff2-4dea1e9afd6c"
      },
      "execution_count": null,
      "outputs": [
        {
          "output_type": "stream",
          "name": "stdout",
          "text": [
            "After deleting --> {'55', '20', '50', '60', '40', '66'}\n"
          ]
        }
      ]
    },
    {
      "cell_type": "code",
      "source": [
        "print(\"Is 40 present in S1 -->\", 40 in S1)"
      ],
      "metadata": {
        "colab": {
          "base_uri": "https://localhost:8080/"
        },
        "id": "NGWuDdjDDLiR",
        "outputId": "63d8b6cc-2606-4960-884a-f396602a384c"
      },
      "execution_count": null,
      "outputs": [
        {
          "output_type": "stream",
          "name": "stdout",
          "text": [
            "Is 40 present in S1 --> False\n"
          ]
        }
      ]
    },
    {
      "cell_type": "code",
      "source": [
        "S1= set(['10', '20', '30', '40', '50', '60'])\n",
        "S2= set(['40', '50', '60', '70', '80', '90'])\n",
        "print(\"Union of S1 and S2 -->\", S1.union(S2))"
      ],
      "metadata": {
        "colab": {
          "base_uri": "https://localhost:8080/"
        },
        "id": "wQoQ9Hs6EL0y",
        "outputId": "884e1019-00cb-4c57-c370-31a373ca3452"
      },
      "execution_count": null,
      "outputs": [
        {
          "output_type": "stream",
          "name": "stdout",
          "text": [
            "Union of S1 and S2 --> {'80', '30', '20', '50', '10', '60', '40', '90', '70'}\n"
          ]
        }
      ]
    },
    {
      "cell_type": "code",
      "source": [
        "print(\"Intersection of S1 and S2 -->\", S1.intersection(S2))"
      ],
      "metadata": {
        "colab": {
          "base_uri": "https://localhost:8080/"
        },
        "id": "Yvwp4glDEa8B",
        "outputId": "c5fd79ed-337a-4499-a0b9-a369519d366d"
      },
      "execution_count": null,
      "outputs": [
        {
          "output_type": "stream",
          "name": "stdout",
          "text": [
            "Intersection of S1 and S2 --> {'50', '60', '40'}\n"
          ]
        }
      ]
    },
    {
      "cell_type": "code",
      "source": [
        "print(\"Difference S1 - S2 -->\", S1-S2)"
      ],
      "metadata": {
        "colab": {
          "base_uri": "https://localhost:8080/"
        },
        "id": "DUyyUekBEm3h",
        "outputId": "357ee5e7-be77-4062-e498-d054621feacc"
      },
      "execution_count": null,
      "outputs": [
        {
          "output_type": "stream",
          "name": "stdout",
          "text": [
            "Difference S1 - S2 --> {'30', '10', '20'}\n"
          ]
        }
      ]
    },
    {
      "cell_type": "markdown",
      "source": [
        "---\n",
        "# **Question 4**\n",
        "---"
      ],
      "metadata": {
        "id": "ob9hQsS0E6La"
      }
    },
    {
      "cell_type": "code",
      "source": [
        "import string as s\n",
        "import random as r\n",
        "\n",
        "res = [''.join(r.choice(s.ascii_letters) for i in range(r.randint(6,8))) for i in range(100)]\n",
        "\n",
        "for string in res:\n",
        "    print(string)"
      ],
      "metadata": {
        "id": "tjKkN4FDFLTu"
      },
      "execution_count": null,
      "outputs": []
    },
    {
      "cell_type": "code",
      "source": [
        "def IsPrime(n):\n",
        "  for i in range(2,n//2+1):\n",
        "      if n%i==0:\n",
        "        return 0\n",
        "  return 1\n",
        "    \n",
        "for n in range(600,800):\n",
        "  if IsPrime(n):\n",
        "    print(n)"
      ],
      "metadata": {
        "id": "lvmSpmn9tBBu"
      },
      "execution_count": null,
      "outputs": []
    },
    {
      "cell_type": "code",
      "source": [
        "for i in range(100,1001):\n",
        "  if i%7==0 and i%9==0:\n",
        "    print(i)"
      ],
      "metadata": {
        "id": "F1puvu-Gygsl"
      },
      "execution_count": null,
      "outputs": []
    },
    {
      "cell_type": "markdown",
      "source": [
        "---\n",
        "# **Question 5**\n",
        "---"
      ],
      "metadata": {
        "id": "4lih4HzY0_1N"
      }
    },
    {
      "cell_type": "code",
      "source": [
        "import random as r\n",
        "\n",
        "list1 = []\n",
        "list2 = []\n",
        "\n",
        "for i in range(10):\n",
        "  list1.append(r.randint(10,30))\n",
        "  list2.append(r.randint(10,30))\n",
        "\n",
        "print(\"List 1 -->\", list1)\n",
        "print(\"List 2 -->\", list2)\n"
      ],
      "metadata": {
        "colab": {
          "base_uri": "https://localhost:8080/"
        },
        "id": "1TPPuGSo1Ea1",
        "outputId": "1c612244-9b1c-4363-f616-5d8cbe7401cf"
      },
      "execution_count": null,
      "outputs": [
        {
          "output_type": "stream",
          "name": "stdout",
          "text": [
            "List 1 --> [19, 25, 23, 24, 13, 12, 18, 21, 12, 20]\n",
            "List 2 --> [11, 23, 14, 22, 10, 29, 27, 22, 14, 24]\n"
          ]
        }
      ]
    },
    {
      "cell_type": "code",
      "source": [
        "common = list(set(list1) & set(list2))\n",
        "print(\"Common numbers -->\", common)"
      ],
      "metadata": {
        "colab": {
          "base_uri": "https://localhost:8080/"
        },
        "id": "rCShrPNh3mUM",
        "outputId": "af3deb35-4b45-4c8e-ee2a-545afbf04b85"
      },
      "execution_count": null,
      "outputs": [
        {
          "output_type": "stream",
          "name": "stdout",
          "text": [
            "Common numbers --> [24, 23]\n"
          ]
        }
      ]
    },
    {
      "cell_type": "code",
      "source": [
        "unique = list(set(list1) | set(list2))\n",
        "print(\"Unique numbers -->\", unique)"
      ],
      "metadata": {
        "colab": {
          "base_uri": "https://localhost:8080/"
        },
        "id": "TKAGEkwo4opf",
        "outputId": "b3c84657-ed18-4736-c24f-75fd67dd9a6d"
      },
      "execution_count": null,
      "outputs": [
        {
          "output_type": "stream",
          "name": "stdout",
          "text": [
            "Unique numbers --> [10, 11, 12, 13, 14, 18, 19, 20, 21, 22, 23, 24, 25, 27, 29]\n"
          ]
        }
      ]
    },
    {
      "cell_type": "code",
      "source": [
        "minimum = min(min(list1), min(list2))\n",
        "print(\"Minimun -->\", minimum)"
      ],
      "metadata": {
        "colab": {
          "base_uri": "https://localhost:8080/"
        },
        "id": "4tCETX8h6rMG",
        "outputId": "b6ccff1a-761c-41ee-f08e-5a7be1d97867"
      },
      "execution_count": null,
      "outputs": [
        {
          "output_type": "stream",
          "name": "stdout",
          "text": [
            "Minimun --> 10\n"
          ]
        }
      ]
    },
    {
      "cell_type": "code",
      "source": [
        "maximum = max(max(list1), max(list2))\n",
        "print(\"Maximum -->\", maximum)"
      ],
      "metadata": {
        "colab": {
          "base_uri": "https://localhost:8080/"
        },
        "id": "ZRrienYR7ly3",
        "outputId": "d568f16d-455d-4e4f-d6c2-e7a4bfe33f12"
      },
      "execution_count": null,
      "outputs": [
        {
          "output_type": "stream",
          "name": "stdout",
          "text": [
            "Maximum --> 29\n"
          ]
        }
      ]
    },
    {
      "cell_type": "code",
      "source": [
        "sum = sum(list1) + sum(list2)\n",
        "print(\"Sum -->\", sum)"
      ],
      "metadata": {
        "colab": {
          "base_uri": "https://localhost:8080/"
        },
        "id": "tu1uB1nm7wx7",
        "outputId": "c0754a24-16eb-4aa3-cda4-132b5fe46822"
      },
      "execution_count": null,
      "outputs": [
        {
          "output_type": "stream",
          "name": "stdout",
          "text": [
            "Sum --> 383\n"
          ]
        }
      ]
    },
    {
      "cell_type": "markdown",
      "source": [
        "---\n",
        "# **Question 6**\n",
        "---"
      ],
      "metadata": {
        "id": "EIYvodh-LMHo"
      }
    },
    {
      "cell_type": "code",
      "source": [
        "import random as r\n",
        "\n",
        "list=[]\n",
        "for i in range(100):\n",
        "  list.append(r.randint(100,900))\n",
        "\n",
        "print(\"List -->\", list)"
      ],
      "metadata": {
        "colab": {
          "base_uri": "https://localhost:8080/"
        },
        "id": "hL57HYJvLRi8",
        "outputId": "0315221d-5ebd-40a0-e81b-b309c80ecce3"
      },
      "execution_count": null,
      "outputs": [
        {
          "output_type": "stream",
          "name": "stdout",
          "text": [
            "List --> [156, 155, 320, 708, 769, 368, 121, 719, 725, 861, 704, 596, 217, 312, 198, 756, 215, 734, 174, 582, 682, 338, 474, 185, 495, 613, 703, 318, 156, 838, 593, 713, 191, 716, 406, 631, 107, 319, 633, 743, 817, 376, 843, 846, 526, 495, 809, 230, 333, 367, 276, 293, 133, 416, 241, 440, 674, 124, 872, 584, 216, 134, 329, 133, 137, 833, 329, 321, 762, 453, 732, 413, 825, 434, 866, 166, 607, 897, 422, 885, 720, 558, 622, 222, 416, 150, 699, 406, 885, 801, 147, 143, 452, 809, 476, 685, 839, 589, 273, 212]\n"
          ]
        }
      ]
    },
    {
      "cell_type": "code",
      "source": [
        "c=0\n",
        "for i in range(len(list)):\n",
        "  if list[i]%2!=0:\n",
        "    c+=1\n",
        "    print(list[i])\n",
        "print(\"Count of odd numbers =\", c)\n"
      ],
      "metadata": {
        "id": "2HS1ERBGLt0A"
      },
      "execution_count": null,
      "outputs": []
    },
    {
      "cell_type": "code",
      "source": [
        "d=0\n",
        "for i in range(len(list)):\n",
        "  if list[i]%2==0:\n",
        "    d+=1\n",
        "    print(list[i])\n",
        "print(\"Count of even numbers =\", d)"
      ],
      "metadata": {
        "id": "Y4xaRyT0NSKJ"
      },
      "execution_count": null,
      "outputs": []
    },
    {
      "cell_type": "code",
      "source": [
        "p=0\n",
        "for i in list:\n",
        "  f=0\n",
        "  for k in range(2,i//2+1):\n",
        "    if i%k==0:\n",
        "      f+=1\n",
        "  if f==0:\n",
        "    p+=1\n",
        "    print(i)\n",
        "\n",
        "print(\"Count of prime numbers =\", p) "
      ],
      "metadata": {
        "id": "C7ygihZaNqtj"
      },
      "execution_count": null,
      "outputs": []
    },
    {
      "cell_type": "markdown",
      "source": [
        "---\n",
        "#**Question 7**\n",
        "---"
      ],
      "metadata": {
        "id": "kvWPIYX4PhIf"
      }
    },
    {
      "cell_type": "code",
      "source": [
        "D={1:\"One\",2:\"Two\",3:\"Three\",4:\"Four\", 5:\"Five\"}\n",
        "fp=open('result.txt','w')\n",
        "for k in D:\n",
        "  fp.write(str(k) + \",\" + D[k] + \"\\n\")\n",
        "fp.close()\n",
        "\n",
        "print(\"Writing Done !!\")"
      ],
      "metadata": {
        "colab": {
          "base_uri": "https://localhost:8080/"
        },
        "id": "GD2mXvsoPogb",
        "outputId": "3b99084d-fe44-432e-fa23-582456b5779c"
      },
      "execution_count": null,
      "outputs": [
        {
          "output_type": "stream",
          "name": "stdout",
          "text": [
            "Writing Done !!\n"
          ]
        }
      ]
    },
    {
      "cell_type": "markdown",
      "source": [
        "---\n",
        "# **Question 8**\n",
        "---"
      ],
      "metadata": {
        "id": "rmzp1cmHU4a5"
      }
    },
    {
      "cell_type": "code",
      "source": [
        "L=[\"One\",\"Two\",\"Three\",\"Four\",\"Five\"]\n",
        "fp=open('file.txt','w')\n",
        "for i in L:\n",
        "  length = len(i)\n",
        "  fp.write(i+\",\"+str(length)+\"\\n\")\n",
        "fp.close()\n",
        "\n",
        "print(\"Writing Done !!\")"
      ],
      "metadata": {
        "colab": {
          "base_uri": "https://localhost:8080/"
        },
        "id": "gzdOUd0IVkUg",
        "outputId": "10b62d68-1be2-4159-9685-83c00834322d"
      },
      "execution_count": null,
      "outputs": [
        {
          "output_type": "stream",
          "name": "stdout",
          "text": [
            "Writing Done !!\n"
          ]
        }
      ]
    },
    {
      "cell_type": "markdown",
      "source": [
        "---\n",
        "# **Question 9**\n",
        "---"
      ],
      "metadata": {
        "id": "umxXYMKYXJJX"
      }
    },
    {
      "cell_type": "code",
      "source": [
        "import random as r\n",
        "import string as s\n",
        "fp = open('test.txt','w')\n",
        "res = [''.join(r.choice(s.ascii_letters) for i in range(r.randint(10,15))) for i in range(100)]\n",
        "for element in res:\n",
        "  fp.write(element+\"\\n\")\n",
        "fp.close()\n",
        "print(\"Writing Done !!\")   "
      ],
      "metadata": {
        "colab": {
          "base_uri": "https://localhost:8080/"
        },
        "id": "NxpSJX1cXO_d",
        "outputId": "060410ef-78c0-49d2-bdcb-4eb87d2d698f"
      },
      "execution_count": 200,
      "outputs": [
        {
          "output_type": "stream",
          "name": "stdout",
          "text": [
            "Writing Done !!\n"
          ]
        }
      ]
    },
    {
      "cell_type": "markdown",
      "source": [
        "---\n",
        "# **Question 10**\n",
        "---"
      ],
      "metadata": {
        "id": "yKdPppA0cdDb"
      }
    },
    {
      "cell_type": "code",
      "source": [
        "fp=open('file.txt','w')\n",
        "\n",
        "def IsPrime(n):\n",
        "  for i in range(2,n//2):\n",
        "      if n%i==0:\n",
        "        return 0\n",
        "  return 1\n",
        "    \n",
        "for n in range(600,800):\n",
        "  if IsPrime(n):\n",
        "    fp.write(str(n))\n",
        "\n",
        "fp.close()\n",
        "print(\"Writing Done !!\")"
      ],
      "metadata": {
        "colab": {
          "base_uri": "https://localhost:8080/"
        },
        "id": "dxhw0VmNciOf",
        "outputId": "38fcce20-2251-40ee-f197-082a5eb02f45"
      },
      "execution_count": 217,
      "outputs": [
        {
          "output_type": "stream",
          "name": "stdout",
          "text": [
            "Writing Done !!\n"
          ]
        }
      ]
    },
    {
      "cell_type": "markdown",
      "source": [
        "---\n",
        "# **Question 11**\n",
        "---"
      ],
      "metadata": {
        "id": "knjsCgaQgVSV"
      }
    },
    {
      "cell_type": "code",
      "source": [],
      "metadata": {
        "id": "n6AeS672gU6c"
      },
      "execution_count": null,
      "outputs": []
    }
  ]
}