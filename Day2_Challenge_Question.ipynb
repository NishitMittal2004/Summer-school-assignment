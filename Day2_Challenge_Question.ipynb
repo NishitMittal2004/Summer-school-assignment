{
  "nbformat": 4,
  "nbformat_minor": 0,
  "metadata": {
    "colab": {
      "provenance": [],
      "authorship_tag": "ABX9TyO95TiYbQGrPqzhJm8uk+u1",
      "include_colab_link": true
    },
    "kernelspec": {
      "name": "python3",
      "display_name": "Python 3"
    },
    "language_info": {
      "name": "python"
    }
  },
  "cells": [
    {
      "cell_type": "markdown",
      "metadata": {
        "id": "view-in-github",
        "colab_type": "text"
      },
      "source": [
        "<a href=\"https://colab.research.google.com/github/NishitMittal2004/Summer-school-assignment/blob/main/Day2_Challenge_Question.ipynb\" target=\"_parent\"><img src=\"https://colab.research.google.com/assets/colab-badge.svg\" alt=\"Open In Colab\"/></a>"
      ]
    },
    {
      "cell_type": "markdown",
      "source": [
        "---\n",
        "# **Challenge Question**\n",
        "---"
      ],
      "metadata": {
        "id": "KceljGT0hyHo"
      }
    },
    {
      "cell_type": "code",
      "execution_count": 6,
      "metadata": {
        "colab": {
          "base_uri": "https://localhost:8080/"
        },
        "id": "leFGZoxuhsDD",
        "outputId": "6fd0fe1b-b1fb-40cd-d1d1-dcbefa61d486"
      },
      "outputs": [
        {
          "output_type": "stream",
          "name": "stdout",
          "text": [
            "The sorted list is --> [1, 2, 3, 'Aman', 'Ram', 'Shyam']\n"
          ]
        }
      ],
      "source": [
        "L = [\"Ram\", 1, \"Shyam\", 2, \"Aman\", 3]\n",
        "\n",
        "L1 = []\n",
        "L2 = []\n",
        "\n",
        "for i in L:\n",
        "  if type(i) == int:\n",
        "    L1.append(i)\n",
        "  else:\n",
        "    L2.append(i)\n",
        "\n",
        "L1.sort()\n",
        "L2.sort()\n",
        "\n",
        "L3 = L1 + L2\n",
        "\n",
        "print(\"The sorted list is -->\",L3)"
      ]
    },
    {
      "cell_type": "code",
      "source": [
        "#Using exception handling\n",
        "\n",
        "L = [\"Ram\", 1, \"Shyam\", 2, \"Aman\", 3]\n",
        "print(\"Original list -->\", L)\n",
        "\n",
        "L1 = []\n",
        "L2 = []\n",
        "\n",
        "for item in L:\n",
        "    try:\n",
        "        L1.append(int(item))\n",
        "    except:\n",
        "        L2.append(item)\n",
        "\n",
        "L1.sort()\n",
        "L2.sort()\n",
        "\n",
        "L_sorted = L1 + L2\n",
        "\n",
        "print(\"Sorted list -->\", L_sorted)\n"
      ],
      "metadata": {
        "colab": {
          "base_uri": "https://localhost:8080/"
        },
        "id": "6upfo9qzrf9b",
        "outputId": "e73574c9-4e67-4b1a-cd00-b995ca5ec0c5"
      },
      "execution_count": 18,
      "outputs": [
        {
          "output_type": "stream",
          "name": "stdout",
          "text": [
            "Original list --> ['Ram', 1, 'Shyam', 2, 'Aman', 3]\n",
            "Sorted list --> [1, 2, 3, 'Aman', 'Ram', 'Shyam']\n"
          ]
        }
      ]
    }
  ]
}